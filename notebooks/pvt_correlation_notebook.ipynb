{
  "nbformat": 4,
  "nbformat_minor": 0,
  "metadata": {
    "colab": {
      "name": "pvt_correlation_notebook.ipynb",
      "provenance": [],
      "collapsed_sections": [],
      "authorship_tag": "ABX9TyOI+z6Ir/XgsFNNUxgWJzC+",
      "include_colab_link": true
    },
    "kernelspec": {
      "name": "python3",
      "display_name": "Python 3"
    }
  },
  "cells": [
    {
      "cell_type": "markdown",
      "metadata": {
        "id": "view-in-github",
        "colab_type": "text"
      },
      "source": [
        "<a href=\"https://colab.research.google.com/github/yohanesnuwara/pyreservoir/blob/master/notebooks/pvt_correlation_notebook.ipynb\" target=\"_parent\"><img src=\"https://colab.research.google.com/assets/colab-badge.svg\" alt=\"Open In Colab\"/></a>"
      ]
    },
    {
      "cell_type": "code",
      "metadata": {
        "id": "d4kh4gAk9WR3",
        "colab_type": "code",
        "colab": {}
      },
      "source": [
        "import numpy as np\n",
        "import matplotlib.pyplot as plt\n",
        "import pandas as pd\n",
        "\n",
        "from __future__ import print_function\n",
        "from ipywidgets import interact, interactive, fixed, interact_manual, ToggleButtons\n",
        "import ipywidgets as widgets"
      ],
      "execution_count": 1,
      "outputs": []
    },
    {
      "cell_type": "code",
      "metadata": {
        "id": "f2CirplP9ohX",
        "colab_type": "code",
        "colab": {
          "base_uri": "https://localhost:8080/",
          "height": 138
        },
        "outputId": "9d69361c-16ec-420c-ab63-608d59e21648"
      },
      "source": [
        "!git clone https://github.com/yohanesnuwara/pyreservoir"
      ],
      "execution_count": 2,
      "outputs": [
        {
          "output_type": "stream",
          "text": [
            "Cloning into 'pyreservoir'...\n",
            "remote: Enumerating objects: 207, done.\u001b[K\n",
            "remote: Counting objects: 100% (207/207), done.\u001b[K\n",
            "remote: Compressing objects: 100% (206/206), done.\u001b[K\n",
            "remote: Total 441 (delta 107), reused 0 (delta 0), pack-reused 234\u001b[K\n",
            "Receiving objects: 100% (441/441), 756.76 KiB | 2.17 MiB/s, done.\n",
            "Resolving deltas: 100% (229/229), done.\n"
          ],
          "name": "stdout"
        }
      ]
    },
    {
      "cell_type": "code",
      "metadata": {
        "id": "DTWu1cg3iMsT",
        "colab_type": "code",
        "colab": {}
      },
      "source": [
        "import sys\n",
        "sys.path.append('/content/pyreservoir/pvt')\n",
        "\n",
        "from pvtcorrelation import *"
      ],
      "execution_count": 3,
      "outputs": []
    },
    {
      "cell_type": "markdown",
      "metadata": {
        "id": "AYg9BgXxA4CC",
        "colab_type": "text"
      },
      "source": [
        "## Gas\n",
        "\n",
        "Input to gas PVT are:\n",
        "\n",
        "* `pressure`: Pressure (psia)\n",
        "* `temp`: Temperature (°F)\n",
        "* `sg`: Specific gravity\n",
        "* `x_h2s`: H2S mole fraction in gas\n",
        "* `x_co2`: CO2 mole fraction in gas"
      ]
    },
    {
      "cell_type": "code",
      "metadata": {
        "id": "Vdiz83xXTctT",
        "colab_type": "code",
        "colab": {
          "base_uri": "https://localhost:8080/",
          "height": 138
        },
        "outputId": "29f5ae3d-8fb1-4a86-ccfc-c859331068b2"
      },
      "source": [
        "help(gas_compressibility)"
      ],
      "execution_count": 4,
      "outputs": [
        {
          "output_type": "stream",
          "text": [
            "Help on function gas_compressibility in module pvtcorrelation:\n",
            "\n",
            "gas_compressibility(T_pr, P_pr, rho_pr, z, P_pc)\n",
            "    Calculate Gas Isothermal Compressibility\n",
            "    For range: unspecified\n",
            "    (Trube, 1957; Mattar, 1975)\n",
            "\n"
          ],
          "name": "stdout"
        }
      ]
    },
    {
      "cell_type": "code",
      "metadata": {
        "id": "hP99J3dLAnyV",
        "colab_type": "code",
        "colab": {
          "base_uri": "https://localhost:8080/",
          "height": 276
        },
        "outputId": "0548146f-9e8c-4998-908b-45c77c9f1ca7"
      },
      "source": [
        "\"\"\"\n",
        "INPUT\n",
        "\"\"\"\n",
        "\n",
        "pressure = 2010 # psi\n",
        "temp = 110 # Fahrenheit\n",
        "sg = 0.5 # specific gravity\n",
        "x_h2s = 0.07 # mole fraction of H2S in gas\n",
        "x_co2 = 0.1 # mole fraction of CO2 in gas\n",
        "\n",
        "\"\"\"\n",
        "CALCULATOR\n",
        "\"\"\"\n",
        "\n",
        "# calculate pseudoproperties using Sutton (1985), Wichert and Aziz (1972)\n",
        "P_pc, T_pc, P_pr, T_pr = gas_pseudoprops(temp, pressure, sg, x_h2s, x_co2)\n",
        "\n",
        "# calculate z-factor using Dranchuk-Aboukassem (1975)\n",
        "pseudo_rho, z_factor = gas_zfactor(T_pr, P_pr)\n",
        "\n",
        "# calculate density\n",
        "rhogas = gas_density(temp, pressure, sg, z_factor)\n",
        "\n",
        "# calculate gas FVF\n",
        "Bg = gas_fvf(z_factor, temp, pressure)\n",
        "\n",
        "# calculate isothermal compressibility using Trube (1957) and Mattar (1975)\n",
        "cgas = gas_compressibility(T_pr, P_pr, pseudo_rho, z_factor, P_pc)\n",
        "\n",
        "# calculate viscosity using Lee et al (1966)\n",
        "viscogas = gas_mu(temp, rhogas, sg)\n",
        "\n",
        "print('=== Gas PVT Correlation Calculator === \\n')\n",
        "print('Your Input:')\n",
        "print('Pressure                   : {} psia'.format(pressure))\n",
        "print('Temperature                : {} °F'.format(temp))\n",
        "print('Specific Gravity           : {}'.format(sg))\n",
        "print('H2S Mole Fraction          : {}'.format(x_h2s))\n",
        "print('CO2 Mole Fraction          : {} \\n'.format(x_co2))\n",
        "\n",
        "print('PVT Output:')\n",
        "print('z-factor                   : {}'.format(z_factor))\n",
        "print('Density                    : {} lb/ft3'.format(rhogas))\n",
        "print('FVF                        : {} res ft3/scf'.format(Bg))\n",
        "print('Isothermal compressibility : {} microsip'.format(cgas * 1E+6))\n",
        "print('Viscosity                  : {} cp'.format(viscogas))\n"
      ],
      "execution_count": 5,
      "outputs": [
        {
          "output_type": "stream",
          "text": [
            "=== Gas PVT Correlation Calculator === \n",
            "\n",
            "Your Input:\n",
            "Pressure                   : 2010 psia\n",
            "Temperature                : 110 °F\n",
            "Specific Gravity           : 0.5\n",
            "H2S Mole Fraction          : 0.07\n",
            "CO2 Mole Fraction          : 0.1 \n",
            "\n",
            "PVT Output:\n",
            "z-factor                   : nan\n",
            "Density                    : nan lb/ft3\n",
            "FVF                        : nan res ft3/scf\n",
            "Isothermal compressibility : nan microsip\n",
            "Viscosity                  : nan cp\n"
          ],
          "name": "stdout"
        }
      ]
    },
    {
      "cell_type": "code",
      "metadata": {
        "id": "zHjjoHCYX_MD",
        "colab_type": "code",
        "colab": {
          "base_uri": "https://localhost:8080/",
          "height": 227
        },
        "outputId": "d800323d-6f72-46d6-8e3f-be23e1a66b09"
      },
      "source": [
        "help(gas_pseudoprops)"
      ],
      "execution_count": 6,
      "outputs": [
        {
          "output_type": "stream",
          "text": [
            "Help on function gas_pseudoprops in module pvtcorrelation:\n",
            "\n",
            "gas_pseudoprops(temp, pressure, sg, x_h2s, x_co2)\n",
            "    Calculate Gas Pseudo-critical and Pseudo-reduced Pressure and Temperature\n",
            "    * Pseudo-critical properties\n",
            "      For range: 0.57 < sg < 1.68\n",
            "      (Sutton, 1985)\n",
            "    * Pseudo-reduced properties\n",
            "      For range: x_h2s (mol%) < 0.738; x_co2 (mol%) < 0.544; 154 < p (psia) < 7026; 40 < temp (°F) < 300 (error 0.97%)\n",
            "      (Wichert and Aziz, 1972)\n",
            "\n"
          ],
          "name": "stdout"
        }
      ]
    },
    {
      "cell_type": "markdown",
      "metadata": {
        "id": "gzYBZOp5SgmA",
        "colab_type": "text"
      },
      "source": [
        "## Oil\n",
        "\n",
        "Input to oil PVT are:\n",
        "\n",
        "* `pressure`: Pressure (psia)\n",
        "* `temp`: Temperature (°F)\n",
        "* `sg`: Specific gravity\n",
        "* `Rsb`: Solution gas-oil ratio at bubble-point pressure (scf/STB) (from PVT data)\n",
        "* `api`: Oil gravity (API)"
      ]
    },
    {
      "cell_type": "code",
      "metadata": {
        "id": "YT_El5Shxsqw",
        "colab_type": "code",
        "colab": {
          "base_uri": "https://localhost:8080/",
          "height": 276
        },
        "outputId": "7ccc447c-68b8-46c0-ecae-cb3fca1a9dcc"
      },
      "source": [
        "\"\"\"\n",
        "INPUT\n",
        "\"\"\"\n",
        "\n",
        "pressure = 1900 # psi\n",
        "temp = 220 # Fahrenheit\n",
        "sg = 0.8 # specific gravity\n",
        "Rsb = 500 # solution gas-oil ratio at bubble-point pressure (scf/STB) (from PVT data)\n",
        "api = 30 # oil gravity (API)\n",
        "\n",
        "\"\"\"\n",
        "CALCULATOR\n",
        "\"\"\"\n",
        "\n",
        "# calculate bubble-point pressure using Vasquez and Beggs (1980)\n",
        "pbubble = oil_pbubble(Rsb, sg, api, temp)\n",
        "\n",
        "# calculate isothermal compressibility using Vazquez and Beggs (1980); McCain et al (1988)\n",
        "coil = oil_compressibility(pressure, pbubble, temp, api, Rsb, sg)\n",
        "\n",
        "# calculate FVF using Vazquez and Beggs (1980); Levitan and Murtha (1999)\n",
        "Bo = oil_fvf(pbubble, api, Rsb, sg, temp, pressure)\n",
        "\n",
        "# calculate gas-oil ratio using Vazquez and Beggs (1980)\n",
        "Rs = gasoilratio(pressure, pbubble, sg, api, temp, Rsb)\n",
        "\n",
        "# calculate gas-oil ratio using Vazquez and Beggs (1980); Beggs and Robinson (1975)\n",
        "viscooil = oil_mu(pressure, pbubble, sg, api, temp, Rs)\n",
        "\n",
        "print('=== Oil PVT Correlation Calculator === \\n')\n",
        "print('Your Input:')\n",
        "print('Pressure                     : {} psia'.format(pressure))\n",
        "print('Temperature                  : {} °F'.format(temp))\n",
        "print('Specific Gravity             : {}'.format(sg))\n",
        "print('Gas-oil ratio @ Bubble-point : {} scf/STB'.format(Rsb))\n",
        "print('Oil gravity                  : {} API \\n'.format(api))\n",
        "\n",
        "print('PVT Output:')\n",
        "print('Bubble-point Pressure        : {} psi'.format(pbubble))\n",
        "print('Gas-oil ratio                : {} scf/STB'.format(Rs))\n",
        "print('FVF                          : {} RB/STB'.format(Bo))\n",
        "print('Isothermal compressibility   : {} microsip'.format(coil * 1E+6))\n",
        "print('Viscosity                    : {} cp'.format(viscooil))\n"
      ],
      "execution_count": 9,
      "outputs": [
        {
          "output_type": "stream",
          "text": [
            "=== Oil PVT Correlation Calculator === \n",
            "\n",
            "Your Input:\n",
            "Pressure                     : 1900 psia\n",
            "Temperature                  : 220 °F\n",
            "Specific Gravity             : 0.8\n",
            "Gas-oil ratio @ Bubble-point : 500 scf/STB\n",
            "Oil gravity                  : 30 API \n",
            "\n",
            "PVT Output:\n",
            "Bubble-point Pressure        : 2650.3067919543523 psi\n",
            "Gas-oil ratio                : 347.44320213156914 scf/STB\n",
            "FVF                          : 1.2298060072933186 RB/STB\n",
            "Isothermal compressibility   : 33.100146317783555 microsip\n",
            "Viscosity                    : 0.7777699805921316 cp\n"
          ],
          "name": "stdout"
        }
      ]
    },
    {
      "cell_type": "markdown",
      "metadata": {
        "id": "R5Xcr1f55qGd",
        "colab_type": "text"
      },
      "source": [
        "## Water\n",
        "\n",
        "Input to water PVT are:\n",
        "\n",
        "* `pressure`: Pressure (psia)\n",
        "* `temp`: Temperature (°F)\n",
        "* `s`: salinity (wt%)"
      ]
    },
    {
      "cell_type": "code",
      "metadata": {
        "id": "MxR2MEgK7JuT",
        "colab_type": "code",
        "colab": {
          "base_uri": "https://localhost:8080/",
          "height": 224
        },
        "outputId": "5323a7b3-0a9f-46e5-cfa8-e918693e89a0"
      },
      "source": [
        "\"\"\"\n",
        "INPUT\n",
        "\"\"\"\n",
        "\n",
        "pressure = 3000 # psi\n",
        "temp = 190 # Fahrenheit\n",
        "s = 5 # salinity, wt%\n",
        "\n",
        "\"\"\"\n",
        "CALCULATOR\n",
        "\"\"\"\n",
        "\n",
        "# calculate water FVF using McCain et al (1989)\n",
        "Bw = water_fvf(temp, pressure)\n",
        "\n",
        "# calculate vapor (bubble-point) pressure using the classic Antoine (1888)\n",
        "pbubble = water_pbubble(temp)\n",
        "\n",
        "# calculate isothermal water compressibility using Osif (1988) and McCain (1989)\n",
        "cw = water_compressibility(temp, pressure, s, Bw)\n",
        "\n",
        "# calculate water viscosity using McCain (1989)\n",
        "mu_w = water_mu(temp, pressure, s)\n",
        "\n",
        "print('=== Water PVT Correlation Calculator === \\n')\n",
        "print('Your Input:')\n",
        "print('Pressure                     : {} psia'.format(pressure))\n",
        "print('Temperature                  : {} °F'.format(temp))\n",
        "print('Salinity                     : {} \\n'.format(s / 100))\n",
        "\n",
        "print('PVT Output:')\n",
        "print('FVF                          : {} RB/STB'.format(Bw))\n",
        "print('Bubble-Point Pressure        : {} psia'.format(pbubble))\n",
        "print('Isothermal Compressibility   : {} microsip'.format(cw * 1E+6))\n",
        "print('Viscosity                    : {} cp'.format(mu_w))\n"
      ],
      "execution_count": 8,
      "outputs": [
        {
          "output_type": "stream",
          "text": [
            "=== Water PVT Correlation Calculator === \n",
            "\n",
            "Your Input:\n",
            "Pressure                     : 3000 psia\n",
            "Temperature                  : 190 °F\n",
            "Salinity                     : 0.05 \n",
            "\n",
            "PVT Output:\n",
            "FVF                          : 1.0305404582765743 RB/STB\n",
            "Bubble-Point Pressure        : 9.327025034766681 psia\n",
            "Isothermal Compressibility   : 3.10200919229241 microsip\n",
            "Viscosity                    : 0.4326959802568671 cp\n"
          ],
          "name": "stdout"
        }
      ]
    }
  ]
}